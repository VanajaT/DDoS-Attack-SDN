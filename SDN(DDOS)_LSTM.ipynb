{
  "nbformat": 4,
  "nbformat_minor": 0,
  "metadata": {
    "colab": {
      "provenance": [],
      "include_colab_link": true
    },
    "kernelspec": {
      "display_name": "Python 3",
      "name": "python3"
    }
  },
  "cells": [
    {
      "cell_type": "markdown",
      "metadata": {
        "id": "view-in-github",
        "colab_type": "text"
      },
      "source": [
        "<a href=\"https://colab.research.google.com/github/VanajaT/DDoS-Attack-SDN/blob/main/SDN(DDOS)_LSTM.ipynb\" target=\"_parent\"><img src=\"https://colab.research.google.com/assets/colab-badge.svg\" alt=\"Open In Colab\"/></a>"
      ]
    },
    {
      "cell_type": "markdown",
      "metadata": {
        "id": "LoKvVl7uuje9"
      },
      "source": [
        "IMPORTING THE REQUIRED LIBRARIES"
      ]
    },
    {
      "cell_type": "code",
      "metadata": {
        "id": "Madsny25ujxm"
      },
      "source": [
        "import numpy as np\n",
        "import pandas as pd\n",
        "import matplotlib.pyplot as plt\n",
        "import seaborn as sns; sns.set()\n",
        "\n",
        "from keras.models import Sequential, load_model\n",
        "from keras.layers import Dense, LSTM, Bidirectional,GRU\n",
        "from keras.utils import plot_model\n",
        "from keras.utils.np_utils import to_categorical\n",
        "from keras.utils import np_utils\n",
        "\n",
        "from sklearn.model_selection import train_test_split\n",
        "from sklearn.preprocessing import LabelEncoder, StandardScaler\n",
        "from sklearn.metrics import confusion_matrix\n",
        "from keras.optimizers import Adam"
      ],
      "execution_count": null,
      "outputs": []
    },
    {
      "cell_type": "markdown",
      "metadata": {
        "id": "yDrxLyXHuqBl"
      },
      "source": [
        "UPLOADING THE DATASET"
      ]
    },
    {
      "cell_type": "code",
      "metadata": {
        "id": "iNDI16xbw136"
      },
      "source": [
        "from google.colab import files\n",
        "uploaded=files.upload()"
      ],
      "execution_count": null,
      "outputs": []
    },
    {
      "cell_type": "code",
      "metadata": {
        "id": "4xGFV6H0xvkB"
      },
      "source": [
        "df = pd.read_csv('dataset.csv')"
      ],
      "execution_count": null,
      "outputs": []
    },
    {
      "cell_type": "code",
      "metadata": {
        "colab": {
          "base_uri": "https://localhost:8080/"
        },
        "id": "hhj4SpiCxyhv",
        "outputId": "9b08a3dc-5e54-4cbe-9576-ffe4a3ba9c37"
      },
      "source": [
        "features= ['dt','switch','pktcount','bytecount','dur','dur_nsec',\t'tot_dur','flows','packetins','pktperflow','byteperflow','pktrate','Pairflow','Protocol','port_no','tx_bytes','rx_bytes']\n",
        "df.Protocol[df.Protocol == 'UDP'] = 1\n",
        "df.Protocol[df.Protocol == 'TCP'] = 2\n",
        "df.Protocol[df.Protocol == 'ICMP'] = 3\n",
        "print(df)\n",
        "x = df[features]\n",
        "y = df.label"
      ],
      "execution_count": null,
      "outputs": [
        {
          "output_type": "stream",
          "text": [
            "           dt  switch        src       dst  ...  port_no   tx_bytes  rx_bytes  label\n",
            "0       11425       1   10.0.0.1  10.0.0.8  ...        3  143928631      3917      0\n",
            "1       11605       1   10.0.0.1  10.0.0.8  ...        4       3842      3520      0\n",
            "2       11425       1   10.0.0.2  10.0.0.8  ...        1       3795      1242      0\n",
            "3       11425       1   10.0.0.2  10.0.0.8  ...        2       3688      1492      0\n",
            "4       11425       1   10.0.0.2  10.0.0.8  ...        3       3413      3665      0\n",
            "...       ...     ...        ...       ...  ...      ...        ...       ...    ...\n",
            "104340   5262       3   10.0.0.5  10.0.0.7  ...        1      15209     12720      0\n",
            "104341   5262       3   10.0.0.5  10.0.0.7  ...        3      15099     14693      0\n",
            "104342   5262       3  10.0.0.11  10.0.0.5  ...        2       3409      3731      0\n",
            "104343   5262       3  10.0.0.11  10.0.0.5  ...        1      15209     12720      0\n",
            "104344   5262       3  10.0.0.11  10.0.0.5  ...        3      15099     14693      0\n",
            "\n",
            "[104345 rows x 20 columns]\n"
          ],
          "name": "stdout"
        },
        {
          "output_type": "stream",
          "text": [
            "/usr/local/lib/python3.7/dist-packages/ipykernel_launcher.py:2: SettingWithCopyWarning: \n",
            "A value is trying to be set on a copy of a slice from a DataFrame\n",
            "\n",
            "See the caveats in the documentation: https://pandas.pydata.org/pandas-docs/stable/user_guide/indexing.html#returning-a-view-versus-a-copy\n",
            "  \n",
            "/usr/local/lib/python3.7/dist-packages/ipykernel_launcher.py:3: SettingWithCopyWarning: \n",
            "A value is trying to be set on a copy of a slice from a DataFrame\n",
            "\n",
            "See the caveats in the documentation: https://pandas.pydata.org/pandas-docs/stable/user_guide/indexing.html#returning-a-view-versus-a-copy\n",
            "  This is separate from the ipykernel package so we can avoid doing imports until\n",
            "/usr/local/lib/python3.7/dist-packages/ipykernel_launcher.py:4: SettingWithCopyWarning: \n",
            "A value is trying to be set on a copy of a slice from a DataFrame\n",
            "\n",
            "See the caveats in the documentation: https://pandas.pydata.org/pandas-docs/stable/user_guide/indexing.html#returning-a-view-versus-a-copy\n",
            "  after removing the cwd from sys.path.\n"
          ],
          "name": "stderr"
        }
      ]
    },
    {
      "cell_type": "markdown",
      "metadata": {
        "id": "kIt4wDbEuKTw"
      },
      "source": [
        "DATA PREPROCESSING"
      ]
    },
    {
      "cell_type": "code",
      "metadata": {
        "id": "-gWWuQn3yep3"
      },
      "source": [
        "scalar = StandardScaler(copy=True, with_mean=True, with_std=True)\n",
        "scalar.fit(x)\n",
        "x= scalar.transform(x)"
      ],
      "execution_count": null,
      "outputs": []
    },
    {
      "cell_type": "code",
      "metadata": {
        "id": "3Z3XEMMHY-M8"
      },
      "source": [
        "features = len(x[0])\n",
        "samples = x.shape[0]\n",
        "train_len = 17\n",
        "input_len = samples - train_len\n",
        "I = np.zeros((samples - train_len, train_len, features))\n",
        "\n",
        "for i in range(input_len):\n",
        "    temp = np.zeros((train_len, features))\n",
        "    for j in range(i, i + train_len - 1):\n",
        "        temp[j-i] = x[j]\n",
        "    I[i] = temp"
      ],
      "execution_count": null,
      "outputs": []
    },
    {
      "cell_type": "code",
      "metadata": {
        "colab": {
          "base_uri": "https://localhost:8080/"
        },
        "id": "gPMew-kozK1e",
        "outputId": "32639ebe-d619-4187-c3c0-acff1790f644"
      },
      "source": [
        "x.shape"
      ],
      "execution_count": null,
      "outputs": [
        {
          "output_type": "execute_result",
          "data": {
            "text/plain": [
              "(104345, 17)"
            ]
          },
          "metadata": {
            "tags": []
          },
          "execution_count": 9
        }
      ]
    },
    {
      "cell_type": "markdown",
      "metadata": {
        "id": "z7ObB_Nwr7X4"
      },
      "source": [
        "TRAIN AND TEST SPLIT"
      ]
    },
    {
      "cell_type": "code",
      "metadata": {
        "id": "ELi_DQOCzs1W"
      },
      "source": [
        "x_train, x_test, y_train, y_test = train_test_split(I, y[17:104345], test_size = 0.3)"
      ],
      "execution_count": null,
      "outputs": []
    },
    {
      "cell_type": "code",
      "metadata": {
        "colab": {
          "base_uri": "https://localhost:8080/"
        },
        "id": "ui3jMucBnyuW",
        "outputId": "0637a178-5582-44ed-d6a5-b55d303a7404"
      },
      "source": [
        "x_train.shape"
      ],
      "execution_count": null,
      "outputs": [
        {
          "output_type": "execute_result",
          "data": {
            "text/plain": [
              "(73029, 17, 17)"
            ]
          },
          "metadata": {
            "tags": []
          },
          "execution_count": 12
        }
      ]
    },
    {
      "cell_type": "code",
      "metadata": {
        "colab": {
          "base_uri": "https://localhost:8080/"
        },
        "id": "J0bxRlT7mxFi",
        "outputId": "6333474f-9f9b-43f2-d941-e511cf76de22"
      },
      "source": [
        "x_test.shape"
      ],
      "execution_count": null,
      "outputs": [
        {
          "output_type": "execute_result",
          "data": {
            "text/plain": [
              "(31299, 17, 17)"
            ]
          },
          "metadata": {
            "tags": []
          },
          "execution_count": 13
        }
      ]
    },
    {
      "cell_type": "markdown",
      "metadata": {
        "id": "hslKz4_x8r6N"
      },
      "source": [
        "LSTM"
      ]
    },
    {
      "cell_type": "markdown",
      "metadata": {
        "id": "sqRCtW32aezf"
      },
      "source": [
        "BIULD THE MODEL"
      ]
    },
    {
      "cell_type": "code",
      "metadata": {
        "id": "tw02abz5Ogg8"
      },
      "source": [
        "model = Sequential()\n",
        "\n",
        "model.add(LSTM(64, activation='tanh'))\n",
        "model.add(Dense(32, activation = 'relu'))\n",
        "model.add(Dense(18, activation = 'relu'))\n",
        "model.add(Dense(1, activation = 'sigmoid'))\n",
        "\n",
        "model.compile(loss = 'binary_crossentropy', optimizer = Adam(0.001), metrics = ['accuracy'])\n",
        "\n",
        "\n"
      ],
      "execution_count": null,
      "outputs": []
    },
    {
      "cell_type": "markdown",
      "metadata": {
        "id": "yazDSKffaig1"
      },
      "source": [
        "TRAINING THE MODEL"
      ]
    },
    {
      "cell_type": "code",
      "metadata": {
        "id": "Z6kCWiSwVFkG"
      },
      "source": [
        "history = model.fit(x_train, y_train, epochs = 50,batch_size=58)"
      ],
      "execution_count": null,
      "outputs": []
    },
    {
      "cell_type": "markdown",
      "metadata": {
        "id": "trwwqfdasqV5"
      },
      "source": [
        "TEST THE MODEL"
      ]
    },
    {
      "cell_type": "code",
      "metadata": {
        "colab": {
          "base_uri": "https://localhost:8080/"
        },
        "id": "oiDO9V_LsW32",
        "outputId": "91c2235d-7a1d-4f5f-9ac0-df0b35d6f8b0"
      },
      "source": [
        "history = model.fit(x_test, y_test, epochs = 50,batch_size=58)"
      ],
      "execution_count": null,
      "outputs": [
        {
          "output_type": "stream",
          "text": [
            "Epoch 1/50\n",
            "540/540 [==============================] - 7s 13ms/step - loss: 0.3443 - accuracy: 0.8858\n",
            "Epoch 2/50\n",
            "540/540 [==============================] - 7s 13ms/step - loss: 0.2078 - accuracy: 0.9172\n",
            "Epoch 3/50\n",
            "540/540 [==============================] - 7s 13ms/step - loss: 0.1763 - accuracy: 0.9296\n",
            "Epoch 4/50\n",
            "540/540 [==============================] - 7s 13ms/step - loss: 0.1559 - accuracy: 0.9378\n",
            "Epoch 5/50\n",
            "540/540 [==============================] - 7s 13ms/step - loss: 0.1399 - accuracy: 0.9444\n",
            "Epoch 6/50\n",
            "540/540 [==============================] - 7s 13ms/step - loss: 0.1285 - accuracy: 0.9477\n",
            "Epoch 7/50\n",
            "540/540 [==============================] - 7s 13ms/step - loss: 0.1175 - accuracy: 0.9535\n",
            "Epoch 8/50\n",
            "540/540 [==============================] - 7s 13ms/step - loss: 0.1063 - accuracy: 0.9583\n",
            "Epoch 9/50\n",
            "540/540 [==============================] - 7s 13ms/step - loss: 0.1019 - accuracy: 0.9593\n",
            "Epoch 10/50\n",
            "540/540 [==============================] - 7s 13ms/step - loss: 0.0940 - accuracy: 0.9632\n",
            "Epoch 11/50\n",
            "540/540 [==============================] - 7s 13ms/step - loss: 0.0806 - accuracy: 0.9689\n",
            "Epoch 12/50\n",
            "540/540 [==============================] - 7s 13ms/step - loss: 0.0785 - accuracy: 0.9703\n",
            "Epoch 13/50\n",
            "540/540 [==============================] - 7s 13ms/step - loss: 0.0819 - accuracy: 0.9693\n",
            "Epoch 14/50\n",
            "540/540 [==============================] - 7s 13ms/step - loss: 0.0710 - accuracy: 0.9732\n",
            "Epoch 15/50\n",
            "540/540 [==============================] - 7s 13ms/step - loss: 0.0588 - accuracy: 0.9784\n",
            "Epoch 16/50\n",
            "540/540 [==============================] - 7s 13ms/step - loss: 0.0640 - accuracy: 0.9774\n",
            "Epoch 17/50\n",
            "540/540 [==============================] - 7s 13ms/step - loss: 0.0650 - accuracy: 0.9760\n",
            "Epoch 18/50\n",
            "540/540 [==============================] - 7s 13ms/step - loss: 0.0517 - accuracy: 0.9808\n",
            "Epoch 19/50\n",
            "540/540 [==============================] - 7s 13ms/step - loss: 0.0480 - accuracy: 0.9827\n",
            "Epoch 20/50\n",
            "540/540 [==============================] - 7s 13ms/step - loss: 0.0524 - accuracy: 0.9816\n",
            "Epoch 21/50\n",
            "540/540 [==============================] - 7s 13ms/step - loss: 0.0555 - accuracy: 0.9804\n",
            "Epoch 22/50\n",
            "540/540 [==============================] - 7s 13ms/step - loss: 0.0493 - accuracy: 0.9835\n",
            "Epoch 23/50\n",
            "540/540 [==============================] - 7s 13ms/step - loss: 0.0407 - accuracy: 0.9858\n",
            "Epoch 24/50\n",
            "540/540 [==============================] - 7s 13ms/step - loss: 0.0333 - accuracy: 0.9885\n",
            "Epoch 25/50\n",
            "540/540 [==============================] - 7s 13ms/step - loss: 0.0323 - accuracy: 0.9884\n",
            "Epoch 26/50\n",
            "540/540 [==============================] - 7s 13ms/step - loss: 0.0485 - accuracy: 0.9842\n",
            "Epoch 27/50\n",
            "540/540 [==============================] - 7s 13ms/step - loss: 0.0378 - accuracy: 0.9871\n",
            "Epoch 28/50\n",
            "540/540 [==============================] - 7s 13ms/step - loss: 0.0359 - accuracy: 0.9876\n",
            "Epoch 29/50\n",
            "540/540 [==============================] - 7s 13ms/step - loss: 0.0388 - accuracy: 0.9875\n",
            "Epoch 30/50\n",
            "540/540 [==============================] - 7s 13ms/step - loss: 0.0408 - accuracy: 0.9854\n",
            "Epoch 31/50\n",
            "540/540 [==============================] - 7s 13ms/step - loss: 0.0360 - accuracy: 0.9874\n",
            "Epoch 32/50\n",
            "540/540 [==============================] - 7s 13ms/step - loss: 0.0385 - accuracy: 0.9874\n",
            "Epoch 33/50\n",
            "540/540 [==============================] - 7s 13ms/step - loss: 0.0424 - accuracy: 0.9861\n",
            "Epoch 34/50\n",
            "540/540 [==============================] - 7s 13ms/step - loss: 0.0348 - accuracy: 0.9887\n",
            "Epoch 35/50\n",
            "540/540 [==============================] - 7s 13ms/step - loss: 0.0296 - accuracy: 0.9888\n",
            "Epoch 36/50\n",
            "540/540 [==============================] - 7s 13ms/step - loss: 0.0216 - accuracy: 0.9928\n",
            "Epoch 37/50\n",
            "540/540 [==============================] - 7s 13ms/step - loss: 0.0188 - accuracy: 0.9942\n",
            "Epoch 38/50\n",
            "540/540 [==============================] - 7s 13ms/step - loss: 0.0410 - accuracy: 0.9856\n",
            "Epoch 39/50\n",
            "540/540 [==============================] - 7s 13ms/step - loss: 0.0427 - accuracy: 0.9851\n",
            "Epoch 40/50\n",
            "540/540 [==============================] - 7s 13ms/step - loss: 0.0284 - accuracy: 0.9904\n",
            "Epoch 41/50\n",
            "540/540 [==============================] - 7s 13ms/step - loss: 0.0189 - accuracy: 0.9940\n",
            "Epoch 42/50\n",
            "540/540 [==============================] - 7s 13ms/step - loss: 0.0262 - accuracy: 0.9916\n",
            "Epoch 43/50\n",
            "540/540 [==============================] - 7s 13ms/step - loss: 0.0246 - accuracy: 0.9915\n",
            "Epoch 44/50\n",
            "540/540 [==============================] - 7s 13ms/step - loss: 0.0285 - accuracy: 0.9899\n",
            "Epoch 45/50\n",
            "540/540 [==============================] - 7s 13ms/step - loss: 0.0335 - accuracy: 0.9889\n",
            "Epoch 46/50\n",
            "540/540 [==============================] - 7s 13ms/step - loss: 0.0356 - accuracy: 0.9886\n",
            "Epoch 47/50\n",
            "540/540 [==============================] - 7s 13ms/step - loss: 0.0283 - accuracy: 0.9904\n",
            "Epoch 48/50\n",
            "540/540 [==============================] - 7s 13ms/step - loss: 0.0166 - accuracy: 0.9944\n",
            "Epoch 49/50\n",
            "540/540 [==============================] - 7s 13ms/step - loss: 0.0220 - accuracy: 0.9934\n",
            "Epoch 50/50\n",
            "540/540 [==============================] - 7s 13ms/step - loss: 0.0341 - accuracy: 0.9883\n"
          ],
          "name": "stdout"
        }
      ]
    },
    {
      "cell_type": "markdown",
      "metadata": {
        "id": "CEY-E6Qrt6_I"
      },
      "source": [
        "EVALUATING THE MODEL"
      ]
    },
    {
      "cell_type": "code",
      "metadata": {
        "colab": {
          "base_uri": "https://localhost:8080/"
        },
        "id": "-iXNDwXtcBDD",
        "outputId": "3018273c-8793-42ef-8de4-714207409d47"
      },
      "source": [
        "print('Accuracy on test set: {}'.format(model.evaluate(x_test, y_test)[1]))"
      ],
      "execution_count": null,
      "outputs": [
        {
          "output_type": "stream",
          "text": [
            "979/979 [==============================] - 4s 3ms/step - loss: 0.0314 - accuracy: 0.9927\n",
            "Accuracy on test set: 0.9927473664283752\n"
          ],
          "name": "stdout"
        }
      ]
    },
    {
      "cell_type": "code",
      "metadata": {
        "colab": {
          "base_uri": "https://localhost:8080/"
        },
        "id": "viirHHSazhIA",
        "outputId": "0c233529-ba8c-4c10-dc4e-c8b0acb57ae9"
      },
      "source": [
        "# PREDICTING THE TEST SET\n",
        "y_pred=model.predict(x_test)\n",
        "y_pred =(y_pred>0.5)\n",
        "print(y_pred)"
      ],
      "execution_count": null,
      "outputs": [
        {
          "output_type": "stream",
          "text": [
            "[[ True]\n",
            " [False]\n",
            " [False]\n",
            " ...\n",
            " [ True]\n",
            " [False]\n",
            " [ True]]\n"
          ],
          "name": "stdout"
        }
      ]
    },
    {
      "cell_type": "code",
      "metadata": {
        "id": "c7VQyWWDhtbK"
      },
      "source": [
        "#Evaluation of Model - Confusion Matrix Plot\n",
        "import matplotlib.pyplot as plt\n",
        "import itertools\n",
        "from sklearn.metrics import confusion_matrix\n",
        "def plot_confusion_matrix(cm, classes,\n",
        "                          normalize=False,\n",
        "                          title='Confusion matrix',\n",
        "                          cmap=plt.cm.Blues):\n",
        "    \"\"\"\n",
        "    This function prints and plots the confusion matrix.\n",
        "    Normalization can be applied by setting `normalize=True`.\n",
        "    \"\"\"\n",
        "    if normalize:\n",
        "        cm = cm.astype('float') / cm.sum(axis=1)[:, np.newaxis]\n",
        "        print(\"Normalized confusion matrix\")\n",
        "    else:\n",
        "        print('Confusion matrix, without normalization')\n",
        "\n",
        "    print(cm)\n",
        "\n",
        "    plt.imshow(cm, interpolation='nearest', cmap=cmap)\n",
        "    plt.title(title)\n",
        "    plt.colorbar()\n",
        "    tick_marks = np.arange(len(classes))\n",
        "    plt.xticks(tick_marks, classes, rotation=45)\n",
        "    plt.yticks(tick_marks, classes)\n",
        "\n",
        "    fmt = '.2f' if normalize else 'd'\n",
        "    thresh = cm.max() / 2.\n",
        "    for i, j in itertools.product(range(cm.shape[0]), range(cm.shape[1])):\n",
        "        plt.text(j, i, format(cm[i, j], fmt),\n",
        "                 horizontalalignment=\"center\",\n",
        "                 color=\"white\" if cm[i, j] > thresh else \"black\")\n",
        "\n",
        "    plt.ylabel('True label')\n",
        "    plt.xlabel('Predicted label')\n",
        "    plt.tight_layout()\n",
        "\n",
        "\n",
        "# Compute confusion matrix\n",
        "cnf_matrix = confusion_matrix(y_test, y_pred)\n",
        "np.set_printoptions(precision=2)\n",
        "\n",
        "# Plot non-normalized confusion matrix\n",
        "plt.figure()\n",
        "plot_confusion_matrix(cnf_matrix, classes=['0','1'],\n",
        "                      title='Confusion matrix, without normalization')\n",
        "\n",
        "\n",
        "\n",
        "\n",
        "#extracting true_positives, false_positives, true_negatives, false_negatives\n",
        "tn, fp, fn, tp = confusion_matrix(y_test, y_pred).ravel()\n",
        "print(\"True Negatives: \",tn)\n",
        "print(\"False Positives: \",fp)\n",
        "print(\"False Negatives: \",fn)\n",
        "print(\"True Positives: \",tp)"
      ],
      "execution_count": null,
      "outputs": []
    },
    {
      "cell_type": "code",
      "metadata": {
        "id": "FYU4pyoz51Cj"
      },
      "source": [
        "#extracting true_positives, false_positives, true_negatives, false_negatives\n",
        "tn, fp, fn, tp = confusion_matrix(y_test, y_pred).ravel()\n",
        "print(\"True Negatives: \",tn)\n",
        "print(\"False Positives: \",fp)\n",
        "print(\"False Negatives: \",fn)\n",
        "print(\"True Positives: \",tp)"
      ],
      "execution_count": null,
      "outputs": []
    },
    {
      "cell_type": "code",
      "metadata": {
        "colab": {
          "base_uri": "https://localhost:8080/"
        },
        "id": "2h_Pftf357pe",
        "outputId": "130e2cff-ec8c-4b2f-88aa-f5726e7f8920"
      },
      "source": [
        "#Precision\n",
        "Precision = tp/(tp+fp)\n",
        "print(\"Precision {:0.3f}\".format(Precision))\n"
      ],
      "execution_count": null,
      "outputs": [
        {
          "output_type": "stream",
          "text": [
            "Precision 0.992\n"
          ],
          "name": "stdout"
        }
      ]
    },
    {
      "cell_type": "code",
      "metadata": {
        "colab": {
          "base_uri": "https://localhost:8080/"
        },
        "id": "2qLLVcH86ARN",
        "outputId": "ff0adcdf-8846-4513-e086-c5d9190d481d"
      },
      "source": [
        "#Recall\n",
        "Recall = tp/(tp+fn)\n",
        "print(\"Recall {:0.3f}\".format(Recall))\n"
      ],
      "execution_count": null,
      "outputs": [
        {
          "output_type": "stream",
          "text": [
            "Recall 0.989\n"
          ],
          "name": "stdout"
        }
      ]
    },
    {
      "cell_type": "code",
      "metadata": {
        "colab": {
          "base_uri": "https://localhost:8080/"
        },
        "id": "-hzRYEJG6Ag6",
        "outputId": "739193c3-e813-4dd2-fd9d-c5ef5fb1ea3f"
      },
      "source": [
        "#F1 Score\n",
        "f1 = (2*Precision*Recall)/(Precision + Recall)\n",
        "print(\"F1 Score {:0.3f}\".format(f1))\n"
      ],
      "execution_count": null,
      "outputs": [
        {
          "output_type": "stream",
          "text": [
            "F1 Score 0.991\n"
          ],
          "name": "stdout"
        }
      ]
    },
    {
      "cell_type": "code",
      "metadata": {
        "id": "V3CZjcgSB9F3"
      },
      "source": [
        "model = Sequential()\n",
        "\n",
        "model.add(Bidirectional(LSTM(64, activation='tanh', kernel_regularizer='l2')))\n",
        "model.add(Dense(128, activation = 'relu', kernel_regularizer='l2'))\n",
        "model.add(Dense(64, activation = 'relu', kernel_regularizer='l2'))\n",
        "model.add(Dense(32, activation = 'relu', kernel_regularizer='l2'))\n",
        "model.add(Dense(16, activation = 'relu', kernel_regularizer='l2'))\n",
        "model.add(Dense(1, activation = 'sigmoid', kernel_regularizer='l2'))\n",
        "\n",
        "model.compile(loss = 'binary_crossentropy', optimizer = Adam(0.001), metrics = ['accuracy'])\n"
      ],
      "execution_count": null,
      "outputs": []
    },
    {
      "cell_type": "code",
      "metadata": {
        "colab": {
          "base_uri": "https://localhost:8080/"
        },
        "id": "vi2_O5o6DNqv",
        "outputId": "6437e8c9-5c9e-4ceb-d24e-b3a2c1f61cda"
      },
      "source": [
        "history = model.fit(x_train, y_train, epochs = 50,batch_size=100)"
      ],
      "execution_count": null,
      "outputs": [
        {
          "output_type": "stream",
          "text": [
            "Epoch 1/50\n",
            "731/731 [==============================] - 23s 25ms/step - loss: 1.4007 - accuracy: 0.7703\n",
            "Epoch 2/50\n",
            "731/731 [==============================] - 19s 26ms/step - loss: 0.4775 - accuracy: 0.8460\n",
            "Epoch 3/50\n",
            "731/731 [==============================] - 19s 25ms/step - loss: 0.4549 - accuracy: 0.8519\n",
            "Epoch 4/50\n",
            "731/731 [==============================] - 19s 26ms/step - loss: 0.4407 - accuracy: 0.8556\n",
            "Epoch 5/50\n",
            "731/731 [==============================] - 18s 25ms/step - loss: 0.4312 - accuracy: 0.8585\n",
            "Epoch 6/50\n",
            "731/731 [==============================] - 18s 25ms/step - loss: 0.4165 - accuracy: 0.8642\n",
            "Epoch 7/50\n",
            "731/731 [==============================] - 18s 25ms/step - loss: 0.4075 - accuracy: 0.8664\n",
            "Epoch 8/50\n",
            "731/731 [==============================] - 18s 25ms/step - loss: 0.3987 - accuracy: 0.8706\n",
            "Epoch 9/50\n",
            "731/731 [==============================] - 18s 25ms/step - loss: 0.4001 - accuracy: 0.8701\n",
            "Epoch 10/50\n",
            "731/731 [==============================] - 18s 25ms/step - loss: 0.3934 - accuracy: 0.8708\n",
            "Epoch 11/50\n",
            "731/731 [==============================] - 18s 25ms/step - loss: 0.3932 - accuracy: 0.8707\n",
            "Epoch 12/50\n",
            "731/731 [==============================] - 18s 25ms/step - loss: 0.3760 - accuracy: 0.8786\n",
            "Epoch 13/50\n",
            "731/731 [==============================] - 18s 25ms/step - loss: 0.3777 - accuracy: 0.8790\n",
            "Epoch 14/50\n",
            "731/731 [==============================] - 19s 25ms/step - loss: 0.3730 - accuracy: 0.8795\n",
            "Epoch 15/50\n",
            "731/731 [==============================] - 18s 25ms/step - loss: 0.3760 - accuracy: 0.8803\n",
            "Epoch 16/50\n",
            "731/731 [==============================] - 18s 25ms/step - loss: 0.3730 - accuracy: 0.8809\n",
            "Epoch 17/50\n",
            "731/731 [==============================] - 18s 25ms/step - loss: 0.3683 - accuracy: 0.8829\n",
            "Epoch 18/50\n",
            "731/731 [==============================] - 18s 25ms/step - loss: 0.3643 - accuracy: 0.8844\n",
            "Epoch 19/50\n",
            "731/731 [==============================] - 18s 25ms/step - loss: 0.3630 - accuracy: 0.8853\n",
            "Epoch 20/50\n",
            "731/731 [==============================] - 19s 26ms/step - loss: 0.3615 - accuracy: 0.8851\n",
            "Epoch 21/50\n",
            "731/731 [==============================] - 18s 25ms/step - loss: 0.3638 - accuracy: 0.8845\n",
            "Epoch 22/50\n",
            "731/731 [==============================] - 18s 25ms/step - loss: 0.3607 - accuracy: 0.8883\n",
            "Epoch 23/50\n",
            "731/731 [==============================] - 18s 25ms/step - loss: 0.3584 - accuracy: 0.8864\n",
            "Epoch 24/50\n",
            "731/731 [==============================] - 19s 25ms/step - loss: 0.3545 - accuracy: 0.8888\n",
            "Epoch 25/50\n",
            "731/731 [==============================] - 18s 25ms/step - loss: 0.3487 - accuracy: 0.8923\n",
            "Epoch 26/50\n",
            "731/731 [==============================] - 18s 25ms/step - loss: 0.3531 - accuracy: 0.8920\n",
            "Epoch 27/50\n",
            "731/731 [==============================] - 19s 25ms/step - loss: 0.3487 - accuracy: 0.8925\n",
            "Epoch 28/50\n",
            "731/731 [==============================] - 19s 25ms/step - loss: 0.3455 - accuracy: 0.8925\n",
            "Epoch 29/50\n",
            "731/731 [==============================] - 18s 25ms/step - loss: 0.3398 - accuracy: 0.8969\n",
            "Epoch 30/50\n",
            "731/731 [==============================] - 18s 25ms/step - loss: 0.3444 - accuracy: 0.8944\n",
            "Epoch 31/50\n",
            "731/731 [==============================] - 19s 26ms/step - loss: 0.3384 - accuracy: 0.8970\n",
            "Epoch 32/50\n",
            "731/731 [==============================] - 19s 25ms/step - loss: 0.3389 - accuracy: 0.8964\n",
            "Epoch 33/50\n",
            "731/731 [==============================] - 19s 25ms/step - loss: 0.3358 - accuracy: 0.8993\n",
            "Epoch 34/50\n",
            "731/731 [==============================] - 18s 25ms/step - loss: 0.3384 - accuracy: 0.8979\n",
            "Epoch 35/50\n",
            "731/731 [==============================] - 19s 25ms/step - loss: 0.3361 - accuracy: 0.8982\n",
            "Epoch 36/50\n",
            "731/731 [==============================] - 19s 26ms/step - loss: 0.3328 - accuracy: 0.8993\n",
            "Epoch 37/50\n",
            "731/731 [==============================] - 19s 26ms/step - loss: 0.3346 - accuracy: 0.8989\n",
            "Epoch 38/50\n",
            "731/731 [==============================] - 19s 25ms/step - loss: 0.3274 - accuracy: 0.9026\n",
            "Epoch 39/50\n",
            "731/731 [==============================] - 19s 26ms/step - loss: 0.3312 - accuracy: 0.8988\n",
            "Epoch 40/50\n",
            "731/731 [==============================] - 19s 26ms/step - loss: 0.3274 - accuracy: 0.9019\n",
            "Epoch 41/50\n",
            "731/731 [==============================] - 19s 25ms/step - loss: 0.3273 - accuracy: 0.9014\n",
            "Epoch 42/50\n",
            "731/731 [==============================] - 19s 25ms/step - loss: 0.3266 - accuracy: 0.9039\n",
            "Epoch 43/50\n",
            "731/731 [==============================] - 19s 26ms/step - loss: 0.3234 - accuracy: 0.9047\n",
            "Epoch 44/50\n",
            "731/731 [==============================] - 19s 26ms/step - loss: 0.3246 - accuracy: 0.9042\n",
            "Epoch 45/50\n",
            "731/731 [==============================] - 19s 25ms/step - loss: 0.3213 - accuracy: 0.9045\n",
            "Epoch 46/50\n",
            "731/731 [==============================] - 19s 25ms/step - loss: 0.3214 - accuracy: 0.9056\n",
            "Epoch 47/50\n",
            "731/731 [==============================] - 19s 26ms/step - loss: 0.3244 - accuracy: 0.9041\n",
            "Epoch 48/50\n",
            "731/731 [==============================] - 19s 26ms/step - loss: 0.3226 - accuracy: 0.9037\n",
            "Epoch 49/50\n",
            "731/731 [==============================] - 19s 26ms/step - loss: 0.3219 - accuracy: 0.9050\n",
            "Epoch 50/50\n",
            "731/731 [==============================] - 19s 26ms/step - loss: 0.3160 - accuracy: 0.9079\n"
          ],
          "name": "stdout"
        }
      ]
    },
    {
      "cell_type": "code",
      "metadata": {
        "colab": {
          "base_uri": "https://localhost:8080/"
        },
        "id": "o1fb8x2UI10S",
        "outputId": "a1c629e2-572f-432b-bd78-e336d34964ea"
      },
      "source": [
        "history = model.fit(x_test, y_test, epochs = 50,batch_size=100)"
      ],
      "execution_count": null,
      "outputs": [
        {
          "output_type": "stream",
          "text": [
            "Epoch 1/50\n",
            "313/313 [==============================] - 8s 25ms/step - loss: 0.3453 - accuracy: 0.8939\n",
            "Epoch 2/50\n",
            "313/313 [==============================] - 8s 25ms/step - loss: 0.3386 - accuracy: 0.8968\n",
            "Epoch 3/50\n",
            "313/313 [==============================] - 8s 25ms/step - loss: 0.3371 - accuracy: 0.8980\n",
            "Epoch 4/50\n",
            "313/313 [==============================] - 8s 25ms/step - loss: 0.3308 - accuracy: 0.9017\n",
            "Epoch 5/50\n",
            "313/313 [==============================] - 8s 25ms/step - loss: 0.3298 - accuracy: 0.9021\n",
            "Epoch 6/50\n",
            "313/313 [==============================] - 8s 25ms/step - loss: 0.3260 - accuracy: 0.9032\n",
            "Epoch 7/50\n",
            "313/313 [==============================] - 8s 25ms/step - loss: 0.3248 - accuracy: 0.9027\n",
            "Epoch 8/50\n",
            "313/313 [==============================] - 8s 25ms/step - loss: 0.3229 - accuracy: 0.9056\n",
            "Epoch 9/50\n",
            "313/313 [==============================] - 8s 25ms/step - loss: 0.3255 - accuracy: 0.9021\n",
            "Epoch 10/50\n",
            "313/313 [==============================] - 8s 25ms/step - loss: 0.3193 - accuracy: 0.9063\n",
            "Epoch 11/50\n",
            "313/313 [==============================] - 8s 25ms/step - loss: 0.3156 - accuracy: 0.9070\n",
            "Epoch 12/50\n",
            "313/313 [==============================] - 8s 25ms/step - loss: 0.3193 - accuracy: 0.9053\n",
            "Epoch 13/50\n",
            "313/313 [==============================] - 8s 25ms/step - loss: 0.3158 - accuracy: 0.9084\n",
            "Epoch 14/50\n",
            "313/313 [==============================] - 8s 25ms/step - loss: 0.3237 - accuracy: 0.9052\n",
            "Epoch 15/50\n",
            "313/313 [==============================] - 8s 26ms/step - loss: 0.3180 - accuracy: 0.9087\n",
            "Epoch 16/50\n",
            "313/313 [==============================] - 8s 26ms/step - loss: 0.3098 - accuracy: 0.9093\n",
            "Epoch 17/50\n",
            "313/313 [==============================] - 8s 26ms/step - loss: 0.3080 - accuracy: 0.9116\n",
            "Epoch 18/50\n",
            "313/313 [==============================] - 8s 26ms/step - loss: 0.3105 - accuracy: 0.9102\n",
            "Epoch 19/50\n",
            "313/313 [==============================] - 8s 25ms/step - loss: 0.3081 - accuracy: 0.9121\n",
            "Epoch 20/50\n",
            "313/313 [==============================] - 8s 26ms/step - loss: 0.3035 - accuracy: 0.9131\n",
            "Epoch 21/50\n",
            "313/313 [==============================] - 8s 26ms/step - loss: 0.3073 - accuracy: 0.9111\n",
            "Epoch 22/50\n",
            "313/313 [==============================] - 8s 25ms/step - loss: 0.2994 - accuracy: 0.9152\n",
            "Epoch 23/50\n",
            "313/313 [==============================] - 8s 25ms/step - loss: 0.3037 - accuracy: 0.9137\n",
            "Epoch 24/50\n",
            "313/313 [==============================] - 8s 26ms/step - loss: 0.2981 - accuracy: 0.9169\n",
            "Epoch 25/50\n",
            "313/313 [==============================] - 8s 26ms/step - loss: 0.3004 - accuracy: 0.9150\n",
            "Epoch 26/50\n",
            "313/313 [==============================] - 8s 26ms/step - loss: 0.2975 - accuracy: 0.9173\n",
            "Epoch 27/50\n",
            "313/313 [==============================] - 8s 26ms/step - loss: 0.2967 - accuracy: 0.9180\n",
            "Epoch 28/50\n",
            "313/313 [==============================] - 8s 26ms/step - loss: 0.2996 - accuracy: 0.9164\n",
            "Epoch 29/50\n",
            "313/313 [==============================] - 8s 26ms/step - loss: 0.2957 - accuracy: 0.9176\n",
            "Epoch 30/50\n",
            "313/313 [==============================] - 8s 26ms/step - loss: 0.2919 - accuracy: 0.9194\n",
            "Epoch 31/50\n",
            "313/313 [==============================] - 8s 26ms/step - loss: 0.2919 - accuracy: 0.9202\n",
            "Epoch 32/50\n",
            "313/313 [==============================] - 8s 25ms/step - loss: 0.2930 - accuracy: 0.9182\n",
            "Epoch 33/50\n",
            "313/313 [==============================] - 8s 26ms/step - loss: 0.2930 - accuracy: 0.9191\n",
            "Epoch 34/50\n",
            "313/313 [==============================] - 8s 25ms/step - loss: 0.2891 - accuracy: 0.9226\n",
            "Epoch 35/50\n",
            "313/313 [==============================] - 8s 26ms/step - loss: 0.2872 - accuracy: 0.9218\n",
            "Epoch 36/50\n",
            "313/313 [==============================] - 8s 26ms/step - loss: 0.2877 - accuracy: 0.9210\n",
            "Epoch 37/50\n",
            "313/313 [==============================] - 8s 26ms/step - loss: 0.2849 - accuracy: 0.9236\n",
            "Epoch 38/50\n",
            "313/313 [==============================] - 8s 26ms/step - loss: 0.2892 - accuracy: 0.9215\n",
            "Epoch 39/50\n",
            "313/313 [==============================] - 8s 25ms/step - loss: 0.2823 - accuracy: 0.9241\n",
            "Epoch 40/50\n",
            "313/313 [==============================] - 8s 26ms/step - loss: 0.2873 - accuracy: 0.9215\n",
            "Epoch 41/50\n",
            "313/313 [==============================] - 8s 26ms/step - loss: 0.2804 - accuracy: 0.9246\n",
            "Epoch 42/50\n",
            "313/313 [==============================] - 8s 26ms/step - loss: 0.2795 - accuracy: 0.9243\n",
            "Epoch 43/50\n",
            "313/313 [==============================] - 8s 26ms/step - loss: 0.2837 - accuracy: 0.9231\n",
            "Epoch 44/50\n",
            "313/313 [==============================] - 8s 26ms/step - loss: 0.2807 - accuracy: 0.9250\n",
            "Epoch 45/50\n",
            "313/313 [==============================] - 8s 26ms/step - loss: 0.2791 - accuracy: 0.9266\n",
            "Epoch 46/50\n",
            "313/313 [==============================] - 8s 26ms/step - loss: 0.2814 - accuracy: 0.9247\n",
            "Epoch 47/50\n",
            "313/313 [==============================] - 8s 25ms/step - loss: 0.2773 - accuracy: 0.9274\n",
            "Epoch 48/50\n",
            "313/313 [==============================] - 8s 26ms/step - loss: 0.2772 - accuracy: 0.9276\n",
            "Epoch 49/50\n",
            "313/313 [==============================] - 8s 25ms/step - loss: 0.2767 - accuracy: 0.9274\n",
            "Epoch 50/50\n",
            "313/313 [==============================] - 8s 26ms/step - loss: 0.2722 - accuracy: 0.9287\n"
          ],
          "name": "stdout"
        }
      ]
    },
    {
      "cell_type": "code",
      "metadata": {
        "colab": {
          "base_uri": "https://localhost:8080/"
        },
        "id": "zoYWFBBJP9N6",
        "outputId": "9573f890-11b3-4633-a7a6-65fbd5d0de43"
      },
      "source": [
        "print('Accuracy on test set: {}'.format(model.evaluate(x_test, y_test)[1]))"
      ],
      "execution_count": null,
      "outputs": [
        {
          "output_type": "stream",
          "text": [
            "979/979 [==============================] - 5s 5ms/step - loss: 0.2568 - accuracy: 0.9373\n",
            "Accuracy on test set: 0.9372823238372803\n"
          ],
          "name": "stdout"
        }
      ]
    },
    {
      "cell_type": "code",
      "metadata": {
        "colab": {
          "base_uri": "https://localhost:8080/"
        },
        "id": "iCld96kjQSdm",
        "outputId": "860cef68-daf4-45c8-a9f4-38f082fdc30f"
      },
      "source": [
        "y_pred=model.predict(x_test)\n",
        "y_pred =(y_pred>0.5)\n",
        "print(y_pred)"
      ],
      "execution_count": null,
      "outputs": [
        {
          "output_type": "stream",
          "text": [
            "[[ True]\n",
            " [False]\n",
            " [False]\n",
            " ...\n",
            " [ True]\n",
            " [False]\n",
            " [ True]]\n"
          ],
          "name": "stdout"
        }
      ]
    },
    {
      "cell_type": "code",
      "metadata": {
        "colab": {
          "base_uri": "https://localhost:8080/",
          "height": 349
        },
        "id": "DsfxWMSDQwBa",
        "outputId": "0a5ed8a9-d4dd-4dd7-abe7-6bebdec1e740"
      },
      "source": [
        "import matplotlib.pyplot as plt\n",
        "import itertools\n",
        "from sklearn.metrics import confusion_matrix\n",
        "def plot_confusion_matrix(cm, classes,\n",
        "                          normalize=False,\n",
        "                          title='Confusion matrix',\n",
        "                          cmap=plt.cm.Blues):\n",
        "    \"\"\"\n",
        "    This function prints and plots the confusion matrix.\n",
        "    Normalization can be applied by setting `normalize=True`.\n",
        "    \"\"\"\n",
        "    if normalize:\n",
        "        cm = cm.astype('float') / cm.sum(axis=1)[:, np.newaxis]\n",
        "        print(\"Normalized confusion matrix\")\n",
        "    else:\n",
        "        print('Confusion matrix, without normalization')\n",
        "\n",
        "    print(cm)\n",
        "\n",
        "    plt.imshow(cm, interpolation='nearest', cmap=cmap)\n",
        "    plt.title(title)\n",
        "    plt.colorbar()\n",
        "    tick_marks = np.arange(len(classes))\n",
        "    plt.xticks(tick_marks, classes, rotation=45)\n",
        "    plt.yticks(tick_marks, classes)\n",
        "\n",
        "    fmt = '.2f' if normalize else 'd'\n",
        "    thresh = cm.max() / 2.\n",
        "    for i, j in itertools.product(range(cm.shape[0]), range(cm.shape[1])):\n",
        "        plt.text(j, i, format(cm[i, j], fmt),\n",
        "                 horizontalalignment=\"center\",\n",
        "                 color=\"white\" if cm[i, j] > thresh else \"black\")\n",
        "\n",
        "    plt.ylabel('True label')\n",
        "    plt.xlabel('Predicted label')\n",
        "    plt.tight_layout()\n",
        "\n",
        "\n",
        "# Compute confusion matrix\n",
        "cnf_matrix = confusion_matrix(y_test, y_pred)\n",
        "np.set_printoptions(precision=2)\n",
        "\n",
        "# Plot non-normalized confusion matrix\n",
        "plt.figure()\n",
        "plot_confusion_matrix(cnf_matrix, classes=['BENIGN','attack'],\n",
        "                      title='Confusion matrix, without normalization')"
      ],
      "execution_count": null,
      "outputs": [
        {
          "output_type": "stream",
          "text": [
            "Confusion matrix, without normalization\n",
            "[[18198   919]\n",
            " [ 1044 11138]]\n"
          ],
          "name": "stdout"
        },
        {
          "output_type": "display_data",
          "data": {
            "image/png": "[encoded data removed]",
            "text/plain": [
              "<Figure size 432x288 with 2 Axes>"
            ]
          },
          "metadata": {
            "tags": [],
            "needs_background": "light"
          }
        }
      ]
    },
    {
      "cell_type": "code",
      "metadata": {
        "colab": {
          "base_uri": "https://localhost:8080/"
        },
        "id": "ugDpNtCZQ9BG",
        "outputId": "1388bf5e-a5f0-45d9-e367-408c63ea139d"
      },
      "source": [
        "tn, fp, fn, tp = confusion_matrix(y_test, y_pred).ravel()\n",
        "print(\"True Negatives: \",tn)\n",
        "print(\"False Positives: \",fp)\n",
        "print(\"False Negatives: \",fn)\n",
        "print(\"True Positives: \",tp)"
      ],
      "execution_count": null,
      "outputs": [
        {
          "output_type": "stream",
          "text": [
            "True Negatives:  18198\n",
            "False Positives:  919\n",
            "False Negatives:  1044\n",
            "True Positives:  11138\n"
          ],
          "name": "stdout"
        }
      ]
    },
    {
      "cell_type": "code",
      "metadata": {
        "colab": {
          "base_uri": "https://localhost:8080/"
        },
        "id": "T9JqBU0eQ9Lz",
        "outputId": "c4f2e726-c684-457c-aac0-383f55dd0e4c"
      },
      "source": [
        "Precision = tp/(tp+fp)\n",
        "print(\"Precision {:0.3f}\".format(Precision))"
      ],
      "execution_count": null,
      "outputs": [
        {
          "output_type": "stream",
          "text": [
            "Precision 0.924\n"
          ],
          "name": "stdout"
        }
      ]
    },
    {
      "cell_type": "code",
      "metadata": {
        "colab": {
          "base_uri": "https://localhost:8080/"
        },
        "id": "fNaqIKtuQ9VZ",
        "outputId": "a4f27180-8e5d-493d-8a47-1098d9d24f9e"
      },
      "source": [
        "Recall = tp/(tp+fn)\n",
        "print(\"Recall {:0.3f}\".format(Recall))\n"
      ],
      "execution_count": null,
      "outputs": [
        {
          "output_type": "stream",
          "text": [
            "Recall 0.914\n"
          ],
          "name": "stdout"
        }
      ]
    },
    {
      "cell_type": "code",
      "metadata": {
        "colab": {
          "base_uri": "https://localhost:8080/"
        },
        "id": "RDRTmqsuR2EX",
        "outputId": "de5bb3c6-ee6b-4372-921f-e9dc78f00829"
      },
      "source": [
        "f1 = (2*Precision*Recall)/(Precision + Recall)\n",
        "print(\"F1 Score {:0.3f}\".format(f1))"
      ],
      "execution_count": null,
      "outputs": [
        {
          "output_type": "stream",
          "text": [
            "F1 Score 0.919\n"
          ],
          "name": "stdout"
        }
      ]
    }
  ]
}