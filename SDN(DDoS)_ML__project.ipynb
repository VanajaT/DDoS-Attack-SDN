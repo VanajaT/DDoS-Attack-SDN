{
  "nbformat": 4,
  "nbformat_minor": 0,
  "metadata": {
    "colab": {
      "provenance": [],
      "include_colab_link": true
    },
    "kernelspec": {
      "display_name": "Python 3",
      "name": "python3"
    }
  },
  "cells": [
    {
      "cell_type": "markdown",
      "metadata": {
        "id": "view-in-github",
        "colab_type": "text"
      },
      "source": [
        "<a href=\"https://colab.research.google.com/github/VanajaT/DDoS-Attack-SDN/blob/main/SDN_DDoS_ML__project.ipynb\" target=\"_parent\"><img src=\"https://colab.research.google.com/assets/colab-badge.svg\" alt=\"Open In Colab\"/></a>"
      ]
    },
    {
      "cell_type": "code",
      "metadata": {
        "id": "T5pQDFcq1_1_"
      },
      "source": [
        "from google.colab import files\n",
        "files.upload()"
      ],
      "execution_count": null,
      "outputs": []
    },
    {
      "cell_type": "code",
      "metadata": {
        "id": "oxUG_3qLzcyy"
      },
      "source": [
        "import numpy as np\n",
        "import pandas as pd\n",
        "import matplotlib.pyplot as plt\n",
        "import seaborn as sns\n",
        "\n",
        "%matplotlib inline"
      ],
      "execution_count": null,
      "outputs": []
    },
    {
      "cell_type": "code",
      "metadata": {
        "id": "wj-ANivTlwDv"
      },
      "source": [
        "df = pd.read_csv(\"dataset.csv\")\n"
      ],
      "execution_count": null,
      "outputs": []
    },
    {
      "cell_type": "code",
      "metadata": {
        "colab": {
          "base_uri": "https://localhost:8080/"
        },
        "id": "5OXIqDHqljMu",
        "outputId": "3f948553-f3f3-443f-bf60-df0d1a3f7405"
      },
      "source": [
        "df.shape\n"
      ],
      "execution_count": null,
      "outputs": [
        {
          "output_type": "execute_result",
          "data": {
            "text/plain": [
              "(104345, 20)"
            ]
          },
          "metadata": {
            "tags": []
          },
          "execution_count": 4
        }
      ]
    },
    {
      "cell_type": "code",
      "metadata": {
        "id": "ggUzYKmsLG__"
      },
      "source": [
        "features= ['dt','switch','pktcount','bytecount','dur','dur_nsec',\t'tot_dur','flows','packetins','pktperflow','byteperflow','pktrate','Pairflow','Protocol','port_no','tx_bytes','rx_bytes']\n",
        "df.Protocol[df.Protocol == 'UDP'] = 1\n",
        "df.Protocol[df.Protocol == 'TCP'] = 2\n",
        "df.Protocol[df.Protocol == 'ICMP'] = 3\n",
        "print(df)"
      ],
      "execution_count": null,
      "outputs": []
    },
    {
      "cell_type": "code",
      "metadata": {
        "colab": {
          "base_uri": "https://localhost:8080/",
          "height": 375
        },
        "id": "xKyBt4PmLxwh",
        "outputId": "290782d4-78a7-478a-fc5e-3047effb1543"
      },
      "source": [
        "df.head(10)"
      ],
      "execution_count": null,
      "outputs": [
        {
          "output_type": "execute_result",
          "data": {
            "text/html": [
              "<div>\n",
              "<style scoped>\n",
              "    .dataframe tbody tr th:only-of-type {\n",
              "        vertical-align: middle;\n",
              "    }\n",
              "\n",
              "    .dataframe tbody tr th {\n",
              "        vertical-align: top;\n",
              "    }\n",
              "\n",
              "    .dataframe thead th {\n",
              "        text-align: right;\n",
              "    }\n",
              "</style>\n",
              "<table border=\"1\" class=\"dataframe\">\n",
              "  <thead>\n",
              "    <tr style=\"text-align: right;\">\n",
              "      <th></th>\n",
              "      <th>dt</th>\n",
              "      <th>switch</th>\n",
              "      <th>src</th>\n",
              "      <th>dst</th>\n",
              "      <th>pktcount</th>\n",
              "      <th>bytecount</th>\n",
              "      <th>dur</th>\n",
              "      <th>dur_nsec</th>\n",
              "      <th>tot_dur</th>\n",
              "      <th>flows</th>\n",
              "      <th>packetins</th>\n",
              "      <th>pktperflow</th>\n",
              "      <th>byteperflow</th>\n",
              "      <th>pktrate</th>\n",
              "      <th>Pairflow</th>\n",
              "      <th>Protocol</th>\n",
              "      <th>port_no</th>\n",
              "      <th>tx_bytes</th>\n",
              "      <th>rx_bytes</th>\n",
              "      <th>label</th>\n",
              "    </tr>\n",
              "  </thead>\n",
              "  <tbody>\n",
              "    <tr>\n",
              "      <th>0</th>\n",
              "      <td>11425</td>\n",
              "      <td>1</td>\n",
              "      <td>10.0.0.1</td>\n",
              "      <td>10.0.0.8</td>\n",
              "      <td>45304</td>\n",
              "      <td>48294064</td>\n",
              "      <td>100</td>\n",
              "      <td>716000000</td>\n",
              "      <td>1.010000e+11</td>\n",
              "      <td>3</td>\n",
              "      <td>1943</td>\n",
              "      <td>13535</td>\n",
              "      <td>14428310</td>\n",
              "      <td>451</td>\n",
              "      <td>0</td>\n",
              "      <td>1</td>\n",
              "      <td>3</td>\n",
              "      <td>143928631</td>\n",
              "      <td>3917</td>\n",
              "      <td>0</td>\n",
              "    </tr>\n",
              "    <tr>\n",
              "      <th>1</th>\n",
              "      <td>11605</td>\n",
              "      <td>1</td>\n",
              "      <td>10.0.0.1</td>\n",
              "      <td>10.0.0.8</td>\n",
              "      <td>126395</td>\n",
              "      <td>134737070</td>\n",
              "      <td>280</td>\n",
              "      <td>734000000</td>\n",
              "      <td>2.810000e+11</td>\n",
              "      <td>2</td>\n",
              "      <td>1943</td>\n",
              "      <td>13531</td>\n",
              "      <td>14424046</td>\n",
              "      <td>451</td>\n",
              "      <td>0</td>\n",
              "      <td>1</td>\n",
              "      <td>4</td>\n",
              "      <td>3842</td>\n",
              "      <td>3520</td>\n",
              "      <td>0</td>\n",
              "    </tr>\n",
              "    <tr>\n",
              "      <th>2</th>\n",
              "      <td>11425</td>\n",
              "      <td>1</td>\n",
              "      <td>10.0.0.2</td>\n",
              "      <td>10.0.0.8</td>\n",
              "      <td>90333</td>\n",
              "      <td>96294978</td>\n",
              "      <td>200</td>\n",
              "      <td>744000000</td>\n",
              "      <td>2.010000e+11</td>\n",
              "      <td>3</td>\n",
              "      <td>1943</td>\n",
              "      <td>13534</td>\n",
              "      <td>14427244</td>\n",
              "      <td>451</td>\n",
              "      <td>0</td>\n",
              "      <td>1</td>\n",
              "      <td>1</td>\n",
              "      <td>3795</td>\n",
              "      <td>1242</td>\n",
              "      <td>0</td>\n",
              "    </tr>\n",
              "    <tr>\n",
              "      <th>3</th>\n",
              "      <td>11425</td>\n",
              "      <td>1</td>\n",
              "      <td>10.0.0.2</td>\n",
              "      <td>10.0.0.8</td>\n",
              "      <td>90333</td>\n",
              "      <td>96294978</td>\n",
              "      <td>200</td>\n",
              "      <td>744000000</td>\n",
              "      <td>2.010000e+11</td>\n",
              "      <td>3</td>\n",
              "      <td>1943</td>\n",
              "      <td>13534</td>\n",
              "      <td>14427244</td>\n",
              "      <td>451</td>\n",
              "      <td>0</td>\n",
              "      <td>1</td>\n",
              "      <td>2</td>\n",
              "      <td>3688</td>\n",
              "      <td>1492</td>\n",
              "      <td>0</td>\n",
              "    </tr>\n",
              "    <tr>\n",
              "      <th>4</th>\n",
              "      <td>11425</td>\n",
              "      <td>1</td>\n",
              "      <td>10.0.0.2</td>\n",
              "      <td>10.0.0.8</td>\n",
              "      <td>90333</td>\n",
              "      <td>96294978</td>\n",
              "      <td>200</td>\n",
              "      <td>744000000</td>\n",
              "      <td>2.010000e+11</td>\n",
              "      <td>3</td>\n",
              "      <td>1943</td>\n",
              "      <td>13534</td>\n",
              "      <td>14427244</td>\n",
              "      <td>451</td>\n",
              "      <td>0</td>\n",
              "      <td>1</td>\n",
              "      <td>3</td>\n",
              "      <td>3413</td>\n",
              "      <td>3665</td>\n",
              "      <td>0</td>\n",
              "    </tr>\n",
              "    <tr>\n",
              "      <th>5</th>\n",
              "      <td>11425</td>\n",
              "      <td>1</td>\n",
              "      <td>10.0.0.2</td>\n",
              "      <td>10.0.0.8</td>\n",
              "      <td>90333</td>\n",
              "      <td>96294978</td>\n",
              "      <td>200</td>\n",
              "      <td>744000000</td>\n",
              "      <td>2.010000e+11</td>\n",
              "      <td>3</td>\n",
              "      <td>1943</td>\n",
              "      <td>13534</td>\n",
              "      <td>14427244</td>\n",
              "      <td>451</td>\n",
              "      <td>0</td>\n",
              "      <td>1</td>\n",
              "      <td>1</td>\n",
              "      <td>3795</td>\n",
              "      <td>1402</td>\n",
              "      <td>0</td>\n",
              "    </tr>\n",
              "    <tr>\n",
              "      <th>6</th>\n",
              "      <td>11425</td>\n",
              "      <td>1</td>\n",
              "      <td>10.0.0.1</td>\n",
              "      <td>10.0.0.8</td>\n",
              "      <td>45304</td>\n",
              "      <td>48294064</td>\n",
              "      <td>100</td>\n",
              "      <td>716000000</td>\n",
              "      <td>1.010000e+11</td>\n",
              "      <td>3</td>\n",
              "      <td>1943</td>\n",
              "      <td>13535</td>\n",
              "      <td>14428310</td>\n",
              "      <td>451</td>\n",
              "      <td>0</td>\n",
              "      <td>1</td>\n",
              "      <td>4</td>\n",
              "      <td>3665</td>\n",
              "      <td>3413</td>\n",
              "      <td>0</td>\n",
              "    </tr>\n",
              "    <tr>\n",
              "      <th>7</th>\n",
              "      <td>11425</td>\n",
              "      <td>1</td>\n",
              "      <td>10.0.0.1</td>\n",
              "      <td>10.0.0.8</td>\n",
              "      <td>45304</td>\n",
              "      <td>48294064</td>\n",
              "      <td>100</td>\n",
              "      <td>716000000</td>\n",
              "      <td>1.010000e+11</td>\n",
              "      <td>3</td>\n",
              "      <td>1943</td>\n",
              "      <td>13535</td>\n",
              "      <td>14428310</td>\n",
              "      <td>451</td>\n",
              "      <td>0</td>\n",
              "      <td>1</td>\n",
              "      <td>1</td>\n",
              "      <td>3775</td>\n",
              "      <td>1492</td>\n",
              "      <td>0</td>\n",
              "    </tr>\n",
              "    <tr>\n",
              "      <th>8</th>\n",
              "      <td>11425</td>\n",
              "      <td>1</td>\n",
              "      <td>10.0.0.1</td>\n",
              "      <td>10.0.0.8</td>\n",
              "      <td>45304</td>\n",
              "      <td>48294064</td>\n",
              "      <td>100</td>\n",
              "      <td>716000000</td>\n",
              "      <td>1.010000e+11</td>\n",
              "      <td>3</td>\n",
              "      <td>1943</td>\n",
              "      <td>13535</td>\n",
              "      <td>14428310</td>\n",
              "      <td>451</td>\n",
              "      <td>0</td>\n",
              "      <td>1</td>\n",
              "      <td>2</td>\n",
              "      <td>3845</td>\n",
              "      <td>1402</td>\n",
              "      <td>0</td>\n",
              "    </tr>\n",
              "    <tr>\n",
              "      <th>9</th>\n",
              "      <td>11425</td>\n",
              "      <td>1</td>\n",
              "      <td>10.0.0.2</td>\n",
              "      <td>10.0.0.8</td>\n",
              "      <td>90333</td>\n",
              "      <td>96294978</td>\n",
              "      <td>200</td>\n",
              "      <td>744000000</td>\n",
              "      <td>2.010000e+11</td>\n",
              "      <td>3</td>\n",
              "      <td>1943</td>\n",
              "      <td>13534</td>\n",
              "      <td>14427244</td>\n",
              "      <td>451</td>\n",
              "      <td>0</td>\n",
              "      <td>1</td>\n",
              "      <td>4</td>\n",
              "      <td>354583059</td>\n",
              "      <td>4295</td>\n",
              "      <td>0</td>\n",
              "    </tr>\n",
              "  </tbody>\n",
              "</table>\n",
              "</div>"
            ],
            "text/plain": [
              "      dt  switch       src       dst  ...  port_no   tx_bytes  rx_bytes  label\n",
              "0  11425       1  10.0.0.1  10.0.0.8  ...        3  143928631      3917      0\n",
              "1  11605       1  10.0.0.1  10.0.0.8  ...        4       3842      3520      0\n",
              "2  11425       1  10.0.0.2  10.0.0.8  ...        1       3795      1242      0\n",
              "3  11425       1  10.0.0.2  10.0.0.8  ...        2       3688      1492      0\n",
              "4  11425       1  10.0.0.2  10.0.0.8  ...        3       3413      3665      0\n",
              "5  11425       1  10.0.0.2  10.0.0.8  ...        1       3795      1402      0\n",
              "6  11425       1  10.0.0.1  10.0.0.8  ...        4       3665      3413      0\n",
              "7  11425       1  10.0.0.1  10.0.0.8  ...        1       3775      1492      0\n",
              "8  11425       1  10.0.0.1  10.0.0.8  ...        2       3845      1402      0\n",
              "9  11425       1  10.0.0.2  10.0.0.8  ...        4  354583059      4295      0\n",
              "\n",
              "[10 rows x 20 columns]"
            ]
          },
          "metadata": {
            "tags": []
          },
          "execution_count": 42
        }
      ]
    },
    {
      "cell_type": "code",
      "metadata": {
        "colab": {
          "base_uri": "https://localhost:8080/",
          "height": 222
        },
        "id": "St25cgqal62M",
        "outputId": "6d6427fc-3bf4-4777-84ab-ff64961fd662"
      },
      "source": [
        "df.tail(5)\n"
      ],
      "execution_count": null,
      "outputs": [
        {
          "output_type": "execute_result",
          "data": {
            "text/html": [
              "<div>\n",
              "<style scoped>\n",
              "    .dataframe tbody tr th:only-of-type {\n",
              "        vertical-align: middle;\n",
              "    }\n",
              "\n",
              "    .dataframe tbody tr th {\n",
              "        vertical-align: top;\n",
              "    }\n",
              "\n",
              "    .dataframe thead th {\n",
              "        text-align: right;\n",
              "    }\n",
              "</style>\n",
              "<table border=\"1\" class=\"dataframe\">\n",
              "  <thead>\n",
              "    <tr style=\"text-align: right;\">\n",
              "      <th></th>\n",
              "      <th>dt</th>\n",
              "      <th>switch</th>\n",
              "      <th>src</th>\n",
              "      <th>dst</th>\n",
              "      <th>pktcount</th>\n",
              "      <th>bytecount</th>\n",
              "      <th>dur</th>\n",
              "      <th>dur_nsec</th>\n",
              "      <th>tot_dur</th>\n",
              "      <th>flows</th>\n",
              "      <th>packetins</th>\n",
              "      <th>pktperflow</th>\n",
              "      <th>byteperflow</th>\n",
              "      <th>pktrate</th>\n",
              "      <th>Pairflow</th>\n",
              "      <th>Protocol</th>\n",
              "      <th>port_no</th>\n",
              "      <th>tx_bytes</th>\n",
              "      <th>rx_bytes</th>\n",
              "      <th>label</th>\n",
              "    </tr>\n",
              "  </thead>\n",
              "  <tbody>\n",
              "    <tr>\n",
              "      <th>104340</th>\n",
              "      <td>5262</td>\n",
              "      <td>3</td>\n",
              "      <td>10.0.0.5</td>\n",
              "      <td>10.0.0.7</td>\n",
              "      <td>79</td>\n",
              "      <td>7742</td>\n",
              "      <td>81</td>\n",
              "      <td>842000000</td>\n",
              "      <td>8.184200e+10</td>\n",
              "      <td>5</td>\n",
              "      <td>10</td>\n",
              "      <td>29</td>\n",
              "      <td>2842</td>\n",
              "      <td>0</td>\n",
              "      <td>0</td>\n",
              "      <td>3</td>\n",
              "      <td>1</td>\n",
              "      <td>15209</td>\n",
              "      <td>12720</td>\n",
              "      <td>0</td>\n",
              "    </tr>\n",
              "    <tr>\n",
              "      <th>104341</th>\n",
              "      <td>5262</td>\n",
              "      <td>3</td>\n",
              "      <td>10.0.0.5</td>\n",
              "      <td>10.0.0.7</td>\n",
              "      <td>79</td>\n",
              "      <td>7742</td>\n",
              "      <td>81</td>\n",
              "      <td>842000000</td>\n",
              "      <td>8.184200e+10</td>\n",
              "      <td>5</td>\n",
              "      <td>10</td>\n",
              "      <td>29</td>\n",
              "      <td>2842</td>\n",
              "      <td>0</td>\n",
              "      <td>0</td>\n",
              "      <td>3</td>\n",
              "      <td>3</td>\n",
              "      <td>15099</td>\n",
              "      <td>14693</td>\n",
              "      <td>0</td>\n",
              "    </tr>\n",
              "    <tr>\n",
              "      <th>104342</th>\n",
              "      <td>5262</td>\n",
              "      <td>3</td>\n",
              "      <td>10.0.0.11</td>\n",
              "      <td>10.0.0.5</td>\n",
              "      <td>31</td>\n",
              "      <td>3038</td>\n",
              "      <td>31</td>\n",
              "      <td>805000000</td>\n",
              "      <td>3.180500e+10</td>\n",
              "      <td>5</td>\n",
              "      <td>10</td>\n",
              "      <td>30</td>\n",
              "      <td>2940</td>\n",
              "      <td>1</td>\n",
              "      <td>0</td>\n",
              "      <td>3</td>\n",
              "      <td>2</td>\n",
              "      <td>3409</td>\n",
              "      <td>3731</td>\n",
              "      <td>0</td>\n",
              "    </tr>\n",
              "    <tr>\n",
              "      <th>104343</th>\n",
              "      <td>5262</td>\n",
              "      <td>3</td>\n",
              "      <td>10.0.0.11</td>\n",
              "      <td>10.0.0.5</td>\n",
              "      <td>31</td>\n",
              "      <td>3038</td>\n",
              "      <td>31</td>\n",
              "      <td>805000000</td>\n",
              "      <td>3.180500e+10</td>\n",
              "      <td>5</td>\n",
              "      <td>10</td>\n",
              "      <td>30</td>\n",
              "      <td>2940</td>\n",
              "      <td>1</td>\n",
              "      <td>0</td>\n",
              "      <td>3</td>\n",
              "      <td>1</td>\n",
              "      <td>15209</td>\n",
              "      <td>12720</td>\n",
              "      <td>0</td>\n",
              "    </tr>\n",
              "    <tr>\n",
              "      <th>104344</th>\n",
              "      <td>5262</td>\n",
              "      <td>3</td>\n",
              "      <td>10.0.0.11</td>\n",
              "      <td>10.0.0.5</td>\n",
              "      <td>31</td>\n",
              "      <td>3038</td>\n",
              "      <td>31</td>\n",
              "      <td>805000000</td>\n",
              "      <td>3.180500e+10</td>\n",
              "      <td>5</td>\n",
              "      <td>10</td>\n",
              "      <td>30</td>\n",
              "      <td>2940</td>\n",
              "      <td>1</td>\n",
              "      <td>0</td>\n",
              "      <td>3</td>\n",
              "      <td>3</td>\n",
              "      <td>15099</td>\n",
              "      <td>14693</td>\n",
              "      <td>0</td>\n",
              "    </tr>\n",
              "  </tbody>\n",
              "</table>\n",
              "</div>"
            ],
            "text/plain": [
              "          dt  switch        src       dst  ...  port_no  tx_bytes  rx_bytes  label\n",
              "104340  5262       3   10.0.0.5  10.0.0.7  ...        1     15209     12720      0\n",
              "104341  5262       3   10.0.0.5  10.0.0.7  ...        3     15099     14693      0\n",
              "104342  5262       3  10.0.0.11  10.0.0.5  ...        2      3409      3731      0\n",
              "104343  5262       3  10.0.0.11  10.0.0.5  ...        1     15209     12720      0\n",
              "104344  5262       3  10.0.0.11  10.0.0.5  ...        3     15099     14693      0\n",
              "\n",
              "[5 rows x 20 columns]"
            ]
          },
          "metadata": {
            "tags": []
          },
          "execution_count": 6
        }
      ]
    },
    {
      "cell_type": "code",
      "metadata": {
        "colab": {
          "base_uri": "https://localhost:8080/"
        },
        "id": "FgVsc0X_mfQL",
        "outputId": "0ee256c5-20a9-434b-ee7e-6f986b876ec7"
      },
      "source": [
        "df.info()\n"
      ],
      "execution_count": null,
      "outputs": [
        {
          "output_type": "stream",
          "text": [
            "<class 'pandas.core.frame.DataFrame'>\n",
            "RangeIndex: 104345 entries, 0 to 104344\n",
            "Data columns (total 20 columns):\n",
            " #   Column       Non-Null Count   Dtype  \n",
            "---  ------       --------------   -----  \n",
            " 0   dt           104345 non-null  int64  \n",
            " 1   switch       104345 non-null  int64  \n",
            " 2   src          104345 non-null  object \n",
            " 3   dst          104345 non-null  object \n",
            " 4   pktcount     104345 non-null  int64  \n",
            " 5   bytecount    104345 non-null  int64  \n",
            " 6   dur          104345 non-null  int64  \n",
            " 7   dur_nsec     104345 non-null  int64  \n",
            " 8   tot_dur      104345 non-null  float64\n",
            " 9   flows        104345 non-null  int64  \n",
            " 10  packetins    104345 non-null  int64  \n",
            " 11  pktperflow   104345 non-null  int64  \n",
            " 12  byteperflow  104345 non-null  int64  \n",
            " 13  pktrate      104345 non-null  int64  \n",
            " 14  Pairflow     104345 non-null  int64  \n",
            " 15  Protocol     104345 non-null  object \n",
            " 16  port_no      104345 non-null  int64  \n",
            " 17  tx_bytes     104345 non-null  int64  \n",
            " 18  rx_bytes     104345 non-null  int64  \n",
            " 19  label        104345 non-null  int64  \n",
            "dtypes: float64(1), int64(16), object(3)\n",
            "memory usage: 15.9+ MB\n"
          ],
          "name": "stdout"
        }
      ]
    },
    {
      "cell_type": "markdown",
      "metadata": {
        "id": "SkVl54JZm6uX"
      },
      "source": [
        "ANALYSING TARGET VARIABLE"
      ]
    },
    {
      "cell_type": "code",
      "metadata": {
        "colab": {
          "base_uri": "https://localhost:8080/"
        },
        "id": "UYspUTxdm4xy",
        "outputId": "3812481f-f078-42a5-fb22-6fc1aaa20054"
      },
      "source": [
        "dataset[\"label\"].unique()\n"
      ],
      "execution_count": null,
      "outputs": [
        {
          "output_type": "execute_result",
          "data": {
            "text/plain": [
              "array([0, 1])"
            ]
          },
          "metadata": {
            "tags": []
          },
          "execution_count": 14
        }
      ]
    },
    {
      "cell_type": "markdown",
      "metadata": {
        "id": "qTeGM0vYnOrD"
      },
      "source": [
        "EXPLORING THE TARGET VARIABLE"
      ]
    },
    {
      "cell_type": "code",
      "metadata": {
        "colab": {
          "base_uri": "https://localhost:8080/",
          "height": 331
        },
        "id": "HeUpgSCDm_s8",
        "outputId": "836069ad-3b25-4bcb-9a7b-a49581b5af48"
      },
      "source": [
        "y = dataset[\"label\"]\n",
        "\n",
        "sns.countplot(y)\n",
        "\n",
        "\n",
        "label_temp = dataset.label.value_counts()\n",
        "\n",
        "print(label_temp)\n"
      ],
      "execution_count": null,
      "outputs": [
        {
          "output_type": "stream",
          "text": [
            "0    63561\n",
            "1    40784\n",
            "Name: label, dtype: int64\n"
          ],
          "name": "stdout"
        },
        {
          "output_type": "display_data",
          "data": {
            "image/png": "[encoded data removed]",
            "text/plain": [
              "<Figure size 432x288 with 1 Axes>"
            ]
          },
          "metadata": {
            "tags": [],
            "needs_background": "light"
          }
        }
      ]
    },
    {
      "cell_type": "code",
      "metadata": {
        "id": "YTtu7GTh6oMV"
      },
      "source": [
        "x = df[features]\n",
        "y = df.label"
      ],
      "execution_count": null,
      "outputs": []
    },
    {
      "cell_type": "markdown",
      "metadata": {
        "id": "hAAwblUKtAMZ"
      },
      "source": [
        "TRAIN AND TEST SPLIT"
      ]
    },
    {
      "cell_type": "code",
      "metadata": {
        "id": "Q4J3HIn7s871"
      },
      "source": [
        "from sklearn.model_selection import train_test_split\n",
        "X_train,X_test,Y_train,Y_test = train_test_split(x,y,test_size=0.30,random_state=0)\n"
      ],
      "execution_count": null,
      "outputs": []
    },
    {
      "cell_type": "code",
      "metadata": {
        "colab": {
          "base_uri": "https://localhost:8080/"
        },
        "id": "Om4K6txxtFAF",
        "outputId": "2dfc19eb-f4ee-4da2-f296-547fbf6d778e"
      },
      "source": [
        "X_train.shape\n"
      ],
      "execution_count": null,
      "outputs": [
        {
          "output_type": "execute_result",
          "data": {
            "text/plain": [
              "(73041, 17)"
            ]
          },
          "metadata": {
            "tags": []
          },
          "execution_count": 13
        }
      ]
    },
    {
      "cell_type": "code",
      "metadata": {
        "colab": {
          "base_uri": "https://localhost:8080/"
        },
        "id": "fu6Uc0P6tN_0",
        "outputId": "38f690f4-d194-49db-b3b7-5e4ecb800529"
      },
      "source": [
        "X_test.shape\n"
      ],
      "execution_count": null,
      "outputs": [
        {
          "output_type": "execute_result",
          "data": {
            "text/plain": [
              "(31304, 17)"
            ]
          },
          "metadata": {
            "tags": []
          },
          "execution_count": 26
        }
      ]
    },
    {
      "cell_type": "markdown",
      "metadata": {
        "id": "fSuh9cYDthYt"
      },
      "source": [
        "MODEL FITTING"
      ]
    },
    {
      "cell_type": "code",
      "metadata": {
        "id": "4oW-O8O8tx1O"
      },
      "source": [
        "from sklearn.metrics import accuracy_score\n"
      ],
      "execution_count": null,
      "outputs": []
    },
    {
      "cell_type": "markdown",
      "metadata": {
        "id": "dI1eXhrCu-Hj"
      },
      "source": [
        "**NAIVE BAYES**"
      ]
    },
    {
      "cell_type": "code",
      "metadata": {
        "id": "oI-rkm_1u5Fl"
      },
      "source": [
        "from sklearn.naive_bayes import GaussianNB\n",
        "\n",
        "nb = GaussianNB()\n",
        "\n",
        "nb.fit(X_train,Y_train)\n",
        "\n",
        "Y_pred_nb = nb.predict(X_test)\n"
      ],
      "execution_count": null,
      "outputs": []
    },
    {
      "cell_type": "code",
      "metadata": {
        "colab": {
          "base_uri": "https://localhost:8080/"
        },
        "id": "3GBA9QLRvC5-",
        "outputId": "d9827d02-a5f6-4892-d1fb-f50f5a2a2b71"
      },
      "source": [
        "Y_pred_nb.shape\n"
      ],
      "execution_count": null,
      "outputs": [
        {
          "output_type": "execute_result",
          "data": {
            "text/plain": [
              "(31304,)"
            ]
          },
          "metadata": {
            "tags": []
          },
          "execution_count": 34
        }
      ]
    },
    {
      "cell_type": "code",
      "metadata": {
        "colab": {
          "base_uri": "https://localhost:8080/"
        },
        "id": "rtNPfgm-5BMe",
        "outputId": "280c0a87-5651-4705-8c7d-a28238c6dc68"
      },
      "source": [
        "score_nb = round(accuracy_score(Y_pred_nb,Y_test)*100,2)\n",
        "\n",
        "print(\"The accuracy score achieved using Naive Bayes is: \"+str(score_nb)+\" %\")\n",
        "\n",
        "from sklearn.metrics import confusion_matrix\n",
        "from sklearn.metrics import classification_report\n",
        "cm = confusion_matrix(Y_test,Y_pred_nb)\n",
        "print('Confusion matrix: \\n',cm)\n",
        "print('Classification report: \\n',classification_report(Y_test,Y_pred_nb))"
      ],
      "execution_count": null,
      "outputs": [
        {
          "output_type": "stream",
          "text": [
            "The accuracy score achieved using Naive Bayes is: 63.58 %\n",
            "Confusion matrix: \n",
            " [[15667  3599]\n",
            " [ 7802  4236]]\n",
            "Classification report: \n",
            "               precision    recall  f1-score   support\n",
            "\n",
            "           0       0.67      0.81      0.73     19266\n",
            "           1       0.54      0.35      0.43     12038\n",
            "\n",
            "    accuracy                           0.64     31304\n",
            "   macro avg       0.60      0.58      0.58     31304\n",
            "weighted avg       0.62      0.64      0.62     31304\n",
            "\n"
          ],
          "name": "stdout"
        }
      ]
    },
    {
      "cell_type": "markdown",
      "metadata": {
        "id": "7Tt6ck9QvwRU"
      },
      "source": [
        "**K-NEAREST NEIGHBOUR CLASSIFIER**"
      ]
    },
    {
      "cell_type": "code",
      "metadata": {
        "id": "LNCTXrvAvpTE"
      },
      "source": [
        "from sklearn.neighbors import KNeighborsClassifier\n",
        "\n",
        "knn = KNeighborsClassifier(n_neighbors=7)\n",
        "knn.fit(X_train,Y_train)\n",
        "Y_pred_knn=knn.predict(X_test)\n"
      ],
      "execution_count": null,
      "outputs": []
    },
    {
      "cell_type": "code",
      "metadata": {
        "colab": {
          "base_uri": "https://localhost:8080/"
        },
        "id": "GnmTYLrAv3QE",
        "outputId": "57377849-7505-4477-c302-391d8bf0c7ed"
      },
      "source": [
        "Y_pred_knn.shape\n"
      ],
      "execution_count": null,
      "outputs": [
        {
          "output_type": "execute_result",
          "data": {
            "text/plain": [
              "(31304,)"
            ]
          },
          "metadata": {
            "tags": []
          },
          "execution_count": 16
        }
      ]
    },
    {
      "cell_type": "code",
      "metadata": {
        "colab": {
          "base_uri": "https://localhost:8080/"
        },
        "id": "QrjwSb1Gv7Ng",
        "outputId": "8d98fadc-50f3-42f7-9397-e81a3bea78b8"
      },
      "source": [
        "score_knn = round(accuracy_score(Y_pred_knn,Y_test)*100,2)\n",
        "\n",
        "print(\"The accuracy score achieved using KNN is: \"+str(score_knn)+\" %\")\n",
        "\n",
        "from sklearn.metrics import confusion_matrix\n",
        "from sklearn.metrics import classification_report\n",
        "cm = confusion_matrix(Y_test,Y_pred_knn)\n",
        "print('Confusion matrix: \\n',cm)\n",
        "print('Classification report: \\n',classification_report(Y_test,Y_pred_knn))\n"
      ],
      "execution_count": null,
      "outputs": [
        {
          "output_type": "stream",
          "text": [
            "The accuracy score achieved using KNN is: 87.7 %\n",
            "Confusion matrix: \n",
            " [[17824  1442]\n",
            " [ 2408  9630]]\n",
            "Classification report: \n",
            "               precision    recall  f1-score   support\n",
            "\n",
            "           0       0.88      0.93      0.90     19266\n",
            "           1       0.87      0.80      0.83     12038\n",
            "\n",
            "    accuracy                           0.88     31304\n",
            "   macro avg       0.88      0.86      0.87     31304\n",
            "weighted avg       0.88      0.88      0.88     31304\n",
            "\n"
          ],
          "name": "stdout"
        }
      ]
    },
    {
      "cell_type": "markdown",
      "metadata": {
        "id": "0JtYEeqUgndZ"
      },
      "source": [
        "**AdaBoot CLASSIFIER**"
      ]
    },
    {
      "cell_type": "code",
      "metadata": {
        "id": "zousafbPdsmk"
      },
      "source": [
        "from sklearn.ensemble import AdaBoostClassifier\n",
        "abc = AdaBoostClassifier(n_estimators=10,\n",
        "                         learning_rate=1)\n",
        "# Train Adaboost Classifer\n",
        "model = abc.fit(X_train, Y_train)\n",
        "\n",
        "#Predict the response for test dataset\n",
        "Y_pred = model.predict(X_test)"
      ],
      "execution_count": null,
      "outputs": []
    },
    {
      "cell_type": "code",
      "metadata": {
        "colab": {
          "base_uri": "https://localhost:8080/"
        },
        "id": "XUT83kor6LYm",
        "outputId": "545f0387-ca65-45db-bede-9fb399a448e8"
      },
      "source": [
        "score_abc = round(accuracy_score(Y_pred,Y_test)*100,2)\n",
        "\n",
        "print(\"The accuracy score achieved using AdaBoostClassifier is: \"+str(score_abc)+\" %\")\n",
        "\n",
        "from sklearn.metrics import confusion_matrix\n",
        "from sklearn.metrics import classification_report\n",
        "cm = confusion_matrix(Y_test,Y_pred)\n",
        "print('Confusion matrix: \\n',cm)\n",
        "print('Classification report: \\n',classification_report(Y_test,Y_pred))"
      ],
      "execution_count": null,
      "outputs": [
        {
          "output_type": "stream",
          "text": [
            "The accuracy score achieved using AdaBoostClassifier is: 97.25 %\n",
            "Confusion matrix: \n",
            " [[18534   732]\n",
            " [  129 11909]]\n",
            "Classification report: \n",
            "               precision    recall  f1-score   support\n",
            "\n",
            "           0       0.99      0.96      0.98     19266\n",
            "           1       0.94      0.99      0.97     12038\n",
            "\n",
            "    accuracy                           0.97     31304\n",
            "   macro avg       0.97      0.98      0.97     31304\n",
            "weighted avg       0.97      0.97      0.97     31304\n",
            "\n"
          ],
          "name": "stdout"
        }
      ]
    },
    {
      "cell_type": "markdown",
      "metadata": {
        "id": "-Xkc57zS-ZRa"
      },
      "source": [
        "**SUPPORT VECTOR MACHINE**"
      ]
    },
    {
      "cell_type": "code",
      "metadata": {
        "id": "7PnixTKE6VKN"
      },
      "source": [
        "from sklearn.svm import SVC\n",
        "svc = SVC()\n",
        "model = svc.fit(X_train,Y_train)\n",
        "Y_pred_svc = model.predict(X_test)"
      ],
      "execution_count": null,
      "outputs": []
    },
    {
      "cell_type": "code",
      "metadata": {
        "colab": {
          "base_uri": "https://localhost:8080/"
        },
        "id": "VkaVsEFr6hux",
        "outputId": "05a3ea8d-aac2-4cbb-d238-ad4706e041cc"
      },
      "source": [
        "score_svc = round(accuracy_score(Y_pred_svc,Y_test)*100,2)\n",
        "\n",
        "print(\"The accuracy score achieved using SVM is: \"+str(score_svc)+\" %\")\n",
        "\n",
        "from sklearn.metrics import confusion_matrix\n",
        "from sklearn.metrics import classification_report\n",
        "cm = confusion_matrix(Y_test,Y_pred_svc)\n",
        "print('Confusion matrix: \\n',cm)\n",
        "print('Classification report: \\n',classification_report(Y_test,Y_pred_svc))"
      ],
      "execution_count": null,
      "outputs": [
        {
          "output_type": "stream",
          "text": [
            "The accuracy score achieved using SVM is: 67.78 %\n",
            "Confusion matrix: \n",
            " [[14397  4869]\n",
            " [ 5217  6821]]\n",
            "Classification report: \n",
            "               precision    recall  f1-score   support\n",
            "\n",
            "           0       0.73      0.75      0.74     19266\n",
            "           1       0.58      0.57      0.57     12038\n",
            "\n",
            "    accuracy                           0.68     31304\n",
            "   macro avg       0.66      0.66      0.66     31304\n",
            "weighted avg       0.68      0.68      0.68     31304\n",
            "\n"
          ],
          "name": "stdout"
        }
      ]
    },
    {
      "cell_type": "code",
      "metadata": {
        "colab": {
          "base_uri": "https://localhost:8080/",
          "height": 279
        },
        "id": "I74IFWR182DO",
        "outputId": "26a0055f-5006-4054-c5ec-4115cd0c8ed2"
      },
      "source": [
        "data= [['SVM',68],['Navie Bayes',63.58],['KNN',87.7],['AdaBoost',97.25], ['NeuralNetwork',99]]\n",
        "accuracy_compare = pd.DataFrame(data, columns = ['Method', 'Accuracy'])\n",
        "\n",
        "sns.barplot(x=accuracy_compare['Method'],y=accuracy_compare['Accuracy'])\n",
        "plt.show()"
      ],
      "execution_count": null,
      "outputs": [
        {
          "output_type": "display_data",
          "data": {
            "image/png": "[encoded data removed]",
            "text/plain": [
              "<Figure size 432x288 with 1 Axes>"
            ]
          },
          "metadata": {
            "tags": [],
            "needs_background": "light"
          }
        }
      ]
    }
  ]
}
